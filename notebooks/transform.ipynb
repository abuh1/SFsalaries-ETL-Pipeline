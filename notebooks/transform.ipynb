{
 "cells": [
  {
   "cell_type": "code",
   "execution_count": 1,
   "metadata": {},
   "outputs": [
    {
     "data": {
      "text/html": [
       "<div>\n",
       "<style scoped>\n",
       "    .dataframe tbody tr th:only-of-type {\n",
       "        vertical-align: middle;\n",
       "    }\n",
       "\n",
       "    .dataframe tbody tr th {\n",
       "        vertical-align: top;\n",
       "    }\n",
       "\n",
       "    .dataframe thead th {\n",
       "        text-align: right;\n",
       "    }\n",
       "</style>\n",
       "<table border=\"1\" class=\"dataframe\">\n",
       "  <thead>\n",
       "    <tr style=\"text-align: right;\">\n",
       "      <th></th>\n",
       "      <th>Id</th>\n",
       "      <th>EmployeeName</th>\n",
       "      <th>JobTitle</th>\n",
       "      <th>BasePay</th>\n",
       "      <th>OvertimePay</th>\n",
       "      <th>OtherPay</th>\n",
       "      <th>Benefits</th>\n",
       "      <th>TotalPay</th>\n",
       "      <th>TotalPayBenefits</th>\n",
       "      <th>Year</th>\n",
       "      <th>Notes</th>\n",
       "      <th>Agency</th>\n",
       "      <th>Status</th>\n",
       "    </tr>\n",
       "  </thead>\n",
       "  <tbody>\n",
       "    <tr>\n",
       "      <th>0</th>\n",
       "      <td>1</td>\n",
       "      <td>NATHANIEL FORD</td>\n",
       "      <td>GENERAL MANAGER-METROPOLITAN TRANSIT AUTHORITY</td>\n",
       "      <td>167411.18</td>\n",
       "      <td>0.0</td>\n",
       "      <td>400184.25</td>\n",
       "      <td></td>\n",
       "      <td>567595.43</td>\n",
       "      <td>567595.43</td>\n",
       "      <td>2011</td>\n",
       "      <td></td>\n",
       "      <td>San Francisco</td>\n",
       "      <td></td>\n",
       "    </tr>\n",
       "    <tr>\n",
       "      <th>1</th>\n",
       "      <td>2</td>\n",
       "      <td>GARY JIMENEZ</td>\n",
       "      <td>CAPTAIN III (POLICE DEPARTMENT)</td>\n",
       "      <td>155966.02</td>\n",
       "      <td>245131.88</td>\n",
       "      <td>137811.38</td>\n",
       "      <td></td>\n",
       "      <td>538909.28</td>\n",
       "      <td>538909.28</td>\n",
       "      <td>2011</td>\n",
       "      <td></td>\n",
       "      <td>San Francisco</td>\n",
       "      <td></td>\n",
       "    </tr>\n",
       "    <tr>\n",
       "      <th>2</th>\n",
       "      <td>3</td>\n",
       "      <td>ALBERT PARDINI</td>\n",
       "      <td>CAPTAIN III (POLICE DEPARTMENT)</td>\n",
       "      <td>212739.13</td>\n",
       "      <td>106088.18</td>\n",
       "      <td>16452.6</td>\n",
       "      <td></td>\n",
       "      <td>335279.91</td>\n",
       "      <td>335279.91</td>\n",
       "      <td>2011</td>\n",
       "      <td></td>\n",
       "      <td>San Francisco</td>\n",
       "      <td></td>\n",
       "    </tr>\n",
       "    <tr>\n",
       "      <th>3</th>\n",
       "      <td>4</td>\n",
       "      <td>CHRISTOPHER CHONG</td>\n",
       "      <td>WIRE ROPE CABLE MAINTENANCE MECHANIC</td>\n",
       "      <td>77916.0</td>\n",
       "      <td>56120.71</td>\n",
       "      <td>198306.9</td>\n",
       "      <td></td>\n",
       "      <td>332343.61</td>\n",
       "      <td>332343.61</td>\n",
       "      <td>2011</td>\n",
       "      <td></td>\n",
       "      <td>San Francisco</td>\n",
       "      <td></td>\n",
       "    </tr>\n",
       "    <tr>\n",
       "      <th>4</th>\n",
       "      <td>5</td>\n",
       "      <td>PATRICK GARDNER</td>\n",
       "      <td>DEPUTY CHIEF OF DEPARTMENT,(FIRE DEPARTMENT)</td>\n",
       "      <td>134401.6</td>\n",
       "      <td>9737.0</td>\n",
       "      <td>182234.59</td>\n",
       "      <td></td>\n",
       "      <td>326373.19</td>\n",
       "      <td>326373.19</td>\n",
       "      <td>2011</td>\n",
       "      <td></td>\n",
       "      <td>San Francisco</td>\n",
       "      <td></td>\n",
       "    </tr>\n",
       "  </tbody>\n",
       "</table>\n",
       "</div>"
      ],
      "text/plain": [
       "  Id       EmployeeName                                        JobTitle  \\\n",
       "0  1     NATHANIEL FORD  GENERAL MANAGER-METROPOLITAN TRANSIT AUTHORITY   \n",
       "1  2       GARY JIMENEZ                 CAPTAIN III (POLICE DEPARTMENT)   \n",
       "2  3     ALBERT PARDINI                 CAPTAIN III (POLICE DEPARTMENT)   \n",
       "3  4  CHRISTOPHER CHONG            WIRE ROPE CABLE MAINTENANCE MECHANIC   \n",
       "4  5    PATRICK GARDNER    DEPUTY CHIEF OF DEPARTMENT,(FIRE DEPARTMENT)   \n",
       "\n",
       "     BasePay OvertimePay   OtherPay Benefits   TotalPay TotalPayBenefits  \\\n",
       "0  167411.18         0.0  400184.25           567595.43        567595.43   \n",
       "1  155966.02   245131.88  137811.38           538909.28        538909.28   \n",
       "2  212739.13   106088.18    16452.6           335279.91        335279.91   \n",
       "3    77916.0    56120.71   198306.9           332343.61        332343.61   \n",
       "4   134401.6      9737.0  182234.59           326373.19        326373.19   \n",
       "\n",
       "   Year Notes         Agency Status  \n",
       "0  2011        San Francisco         \n",
       "1  2011        San Francisco         \n",
       "2  2011        San Francisco         \n",
       "3  2011        San Francisco         \n",
       "4  2011        San Francisco         "
      ]
     },
     "execution_count": 1,
     "metadata": {},
     "output_type": "execute_result"
    }
   ],
   "source": [
    "import pandas as pd\n",
    "import sys\n",
    "import numpy as np\n",
    "sys.path.insert(0, '../src')\n",
    "from utils.extract_utils import extract_csv\n",
    "\n",
    "# load data into pandas dataframe\n",
    "data = extract_csv('../data/input/Salaries.csv')\n",
    "df = pd.DataFrame(data)\n",
    "\n",
    "# Set max num of rows to display\n",
    "pd.set_option('display.max_rows', 1500)\n",
    "\n",
    "df.head()"
   ]
  },
  {
   "attachments": {},
   "cell_type": "markdown",
   "metadata": {},
   "source": [
    "## Cleaning"
   ]
  },
  {
   "cell_type": "code",
   "execution_count": null,
   "metadata": {},
   "outputs": [],
   "source": [
    "# check info about dataset\n",
    "df.info()"
   ]
  },
  {
   "attachments": {},
   "cell_type": "markdown",
   "metadata": {},
   "source": [
    "The info tells us that all columns are object type although a lot of them are numeric columns. There are missing values in this dataset that are represented by empty strings, we can change both of these at the same time:"
   ]
  },
  {
   "cell_type": "code",
   "execution_count": null,
   "metadata": {},
   "outputs": [],
   "source": [
    "# convert Id and Year columns to int dtype\n",
    "df[['Id', 'Year']] = df[['Id', 'Year']].astype(int)\n",
    "\n",
    "# convert multiple columns to float, \"errors='coerce'\" converts any non-numeric values to NaN\n",
    "float_columns = ['BasePay', 'OvertimePay', 'OtherPay', 'Benefits', 'TotalPay', 'TotalPayBenefits']\n",
    "for col in float_columns:\n",
    "    df[col] = pd.to_numeric(df[col], errors='coerce').astype(float)"
   ]
  },
  {
   "cell_type": "code",
   "execution_count": null,
   "metadata": {},
   "outputs": [],
   "source": [
    "df.info()"
   ]
  },
  {
   "cell_type": "code",
   "execution_count": null,
   "metadata": {},
   "outputs": [],
   "source": [
    "df.isnull().sum()"
   ]
  },
  {
   "cell_type": "code",
   "execution_count": null,
   "metadata": {},
   "outputs": [],
   "source": [
    "# dropping columns: 'Agency' is a zero variance column (only San Francisco), 'Notes' column has 100% missing values, and 'Status' has 74% missing values, checking the dataset on Kaggle.\n",
    "df.drop(['Agency', 'Notes', 'Status'], axis=1, inplace=True)"
   ]
  },
  {
   "cell_type": "code",
   "execution_count": null,
   "metadata": {},
   "outputs": [],
   "source": [
    "# drop basepay missing rows (only 609, 0.4%)\n",
    "df.dropna(subset=['BasePay'], inplace=True)"
   ]
  },
  {
   "attachments": {},
   "cell_type": "markdown",
   "metadata": {},
   "source": [
    "'Benefits' has 36159 missing values. I will filter the rows that have missing 'Benefits' and where 'TotalPay' and 'TotalPayBenefits' have the same value, and then see if there is also 36159 entries. If it does, I can set all missing 'Benefits' values to 0 since it means there is no benefits for these entries."
   ]
  },
  {
   "cell_type": "code",
   "execution_count": null,
   "metadata": {},
   "outputs": [],
   "source": [
    "# check number of missing entries that also have the same totalpay and totalpaybenefits values\n",
    "missing_benefits_same_totalpay = df[(df['Benefits'].isna()) & (df['TotalPay'] == df['TotalPayBenefits'])]\n",
    "missing_benefits_same_totalpay.shape"
   ]
  },
  {
   "cell_type": "code",
   "execution_count": null,
   "metadata": {},
   "outputs": [],
   "source": [
    "# change all null benefits to 0\n",
    "df['Benefits'].fillna(0, inplace=True)"
   ]
  },
  {
   "cell_type": "code",
   "execution_count": null,
   "metadata": {},
   "outputs": [],
   "source": [
    "# check for duplicate entries\n",
    "duplicates = df.duplicated()\n",
    "num_duplicated = duplicates.sum()\n",
    "print(f\"There are {num_duplicated} duplicate rows in the df\")"
   ]
  },
  {
   "cell_type": "code",
   "execution_count": null,
   "metadata": {},
   "outputs": [],
   "source": [
    "df.head()"
   ]
  },
  {
   "attachments": {},
   "cell_type": "markdown",
   "metadata": {},
   "source": [
    "## Data Aggregation"
   ]
  },
  {
   "cell_type": "code",
   "execution_count": null,
   "metadata": {},
   "outputs": [],
   "source": [
    "# group by job title and calculate stats of basepay and totalpay (mean, median, max, standard deviation, count)\n",
    "agg_df = df.groupby(['JobTitle']).agg({'BasePay': ['mean', 'median', 'min', 'max', 'std', 'count'], 'TotalPay': ['mean', 'median', 'min', 'max', 'std', 'count']}).reset_index()"
   ]
  },
  {
   "cell_type": "code",
   "execution_count": null,
   "metadata": {},
   "outputs": [],
   "source": [
    "agg_df.head(15)"
   ]
  },
  {
   "attachments": {},
   "cell_type": "markdown",
   "metadata": {},
   "source": [
    "## Data Engineering\n",
    "I am going to create 2 new features. The first feature (JobCategory) will categorise job titles. For example, 'law enforcement' will contain police and similar roles. The second feature (SalaryRangeCategory) will categorise different salary ranges, such as low, medium and high salaries depending on the minimum, maximum and mean salary for that job title. "
   ]
  },
  {
   "cell_type": "code",
   "execution_count": null,
   "metadata": {},
   "outputs": [],
   "source": [
    "import re\n",
    "\n",
    "# define regex patterns for each category\n",
    "job_categories = {\n",
    "    'Law Enforcement' : ['police', 'sheriff', 'crime', 'forensic(s)?', 'patrol', 'detective', 'mayor', 'sergeant', 'captain', 'officer', 'lieutenant'],\n",
    "    'Safety & Security' : ['fire', 'safety', 'public', 'security', 'guard', 'protect(ive)?'],\n",
    "    'Medical' : ['doctor', 'nurse', 'paramedic', 'medic(al)?', 'health(care)?', 'medicine', 'anesthetist'],\n",
    "    'Education' : ['teacher', 'prof(essor)?', 'teacher(s)? assistant', 'education', 'eng(r)?'],\n",
    "    'Administrative' : ['clerk', 'admin', 'secretary', 'assistant', 'library', 'librarian'],\n",
    "    'Engineering' : ['engineer', 'architect', 'technician', 'physician', r'\\belectr\\w+'],\n",
    "    'Construction' : ['construction', 'mechanic', 'laborer'], \n",
    "    'Information Technology' : ['programmer', 'developer', 'software', 'IT', 'computer', 'analyst'],\n",
    "    'Management' : ['manager', 'director', 'CEO', 'owner', 'supervisor', 'head', 'leader'],\n",
    "    'Finance' : ['accountant', 'economist', 'tax', 'finance', 'money'],\n",
    "    'Legal' : ['law(yer)?', 'legal', 'attorney', 'judge'],\n",
    "    'Maintenance' : ['custodian', 'porter', 'gardener'], \n",
    "    'Other' : []   \n",
    "}\n",
    "\n",
    "# function to assign job categories based on regex patterns\n",
    "def categorise_job_title(job_title):\n",
    "    for category, patterns in job_categories.items():\n",
    "        for pattern in patterns:\n",
    "            if re.search(pattern, job_title, re.IGNORECASE):\n",
    "                return category\n",
    "    return 'Other'\n",
    "\n",
    "# apply the categorise_job_title function to the JobTitle column and create new column\n",
    "df['JobCategory'] = df['JobTitle'].apply(categorise_job_title)"
   ]
  },
  {
   "cell_type": "code",
   "execution_count": null,
   "metadata": {},
   "outputs": [],
   "source": [
    "df.head()"
   ]
  },
  {
   "cell_type": "code",
   "execution_count": null,
   "metadata": {},
   "outputs": [],
   "source": [
    "# the second feature will compare TotalPay to the std for that job title and categorise it (low, medium, high)\n",
    "# create empty column\n",
    "df['SalaryRangeCategory'] = ''\n",
    "\n",
    "# merge the aggregated df and original df to compare salaries for job titles\n",
    "agg_df.columns = ['JobTitle', 'BasePay_mean', 'BasePay_median', 'BasePay_min', 'BasePay_max', 'BasePay_std', 'BasePay_count', 'TotalPay_mean', 'TotalPay_median', 'TotalPay_min', 'TotalPay_max', 'TotalPay_std', 'TotalPay_count']\n",
    "merged_df = df.merge(agg_df, on='JobTitle')"
   ]
  },
  {
   "cell_type": "code",
   "execution_count": null,
   "metadata": {},
   "outputs": [],
   "source": [
    "# calculate the TotalPay salary range for each row, if pay is less than 1 std below mean, salary range will be low. Above will be high and within will be medium.\n",
    "for i, row in merged_df.iterrows():\n",
    "    mean = row['TotalPay_mean']\n",
    "    std = row['TotalPay_std']\n",
    "    salary = row['TotalPay']\n",
    "    if salary < mean - std:\n",
    "        df.at[i, 'SalaryRangeCategory'] = 'low'\n",
    "    elif salary > mean + std:\n",
    "        df.at[i, 'SalaryRangeCategory'] = 'high'\n",
    "    else:\n",
    "        df.at[i, 'SalaryRangeCategory'] = 'medium'\n",
    "        \n",
    "# fill in missing values (caused by std = NaN) with 'unknown'\n",
    "df['SalaryRangeCategory'] = df['SalaryRangeCategory'].fillna('unknown')"
   ]
  },
  {
   "cell_type": "code",
   "execution_count": null,
   "metadata": {},
   "outputs": [],
   "source": [
    "# transforming the dataset is finished. Display both agg_df and df:\n",
    "df.head()"
   ]
  },
  {
   "cell_type": "code",
   "execution_count": null,
   "metadata": {},
   "outputs": [],
   "source": [
    "agg_df.head()"
   ]
  },
  {
   "cell_type": "code",
   "execution_count": null,
   "metadata": {},
   "outputs": [],
   "source": []
  }
 ],
 "metadata": {
  "kernelspec": {
   "display_name": "Python 3",
   "language": "python",
   "name": "python3"
  },
  "language_info": {
   "codemirror_mode": {
    "name": "ipython",
    "version": 3
   },
   "file_extension": ".py",
   "mimetype": "text/x-python",
   "name": "python",
   "nbconvert_exporter": "python",
   "pygments_lexer": "ipython3",
   "version": "3.11.3"
  },
  "orig_nbformat": 4,
  "vscode": {
   "interpreter": {
    "hash": "a9257703b87c89fba614dbed1de51fa88f8fa5f6b8c1a4ddcf7150f8f1016267"
   }
  }
 },
 "nbformat": 4,
 "nbformat_minor": 2
}
